{
 "cells": [
  {
   "cell_type": "markdown",
   "id": "cbd279b2-978e-41b7-8350-12029b06895f",
   "metadata": {},
   "source": [
    "<h1>Data Science Tools and Ecosystem</h1>"
   ]
  },
  {
   "cell_type": "markdown",
   "id": "bff60a55-c5ca-47d9-847f-d85b62f044db",
   "metadata": {},
   "source": [
    "In this notebook, Data Science Tools and Ecosystem are summarized."
   ]
  },
  {
   "cell_type": "markdown",
   "id": "3fcac3db-b344-41f5-aa6b-dd250d927130",
   "metadata": {},
   "source": [
    "**Objectives**\n",
    "* learn jupiter architecture\n",
    "* Best Tool For Data Scintits\n",
    "* Learn Programming Langaues For Data Scintits \n",
    "* Best Laibarys For Data Scintits"
   ]
  },
  {
   "cell_type": "markdown",
   "id": "ebac7901-49b8-4a7c-8400-06d711b855a5",
   "metadata": {},
   "source": [
    "Some of the popular languages that Data Scientists use are:"
   ]
  },
  {
   "cell_type": "markdown",
   "id": "2de74ffb-17cc-47a7-93cb-ff716834bf45",
   "metadata": {},
   "source": [
    "1. Python\n",
    "2. Java\n",
    "3. R"
   ]
  },
  {
   "cell_type": "markdown",
   "id": "63cb6d28-9c5e-4d19-accf-44e96195ae82",
   "metadata": {},
   "source": [
    "Some of the commonly used libraries used by Data Scientists include:"
   ]
  },
  {
   "cell_type": "markdown",
   "id": "afca722a-5649-43c9-b07e-b92f84ac8d9e",
   "metadata": {},
   "source": [
    "1. Pandas\n",
    "2. NLTK\n",
    "3. MATPLOT"
   ]
  },
  {
   "cell_type": "markdown",
   "id": "491e81a8-76e6-49ac-b3d6-86f673405774",
   "metadata": {},
   "source": [
    "| Data Science Tools |\n",
    "| -------------| \n",
    "| DataLore |\n",
    "| JupterNoteBook |\n",
    "| Spark|"
   ]
  },
  {
   "cell_type": "markdown",
   "id": "27049ff9-f09e-41d0-a49d-7943bd8c5e43",
   "metadata": {},
   "source": [
    "<h3>Below are a few examples of evaluating arithmetic expressions in Python<h3>"
   ]
  },
  {
   "cell_type": "code",
   "execution_count": 5,
   "id": "a6604a64-80a3-4b4c-afd1-be91c277e8dc",
   "metadata": {
    "tags": []
   },
   "outputs": [],
   "source": [
    "#This a simple arithmetic expression to mutiply then add integers"
   ]
  },
  {
   "cell_type": "code",
   "execution_count": 6,
   "id": "4b13d2e4-8536-4617-be55-e91aaaf46ff0",
   "metadata": {
    "tags": []
   },
   "outputs": [
    {
     "data": {
      "text/plain": [
       "17"
      ]
     },
     "execution_count": 6,
     "metadata": {},
     "output_type": "execute_result"
    }
   ],
   "source": [
    "(3*4)+5"
   ]
  },
  {
   "cell_type": "code",
   "execution_count": 7,
   "id": "b46e1b6c-e805-4348-9baf-48e7e66b5d6b",
   "metadata": {
    "tags": []
   },
   "outputs": [],
   "source": [
    "# This will convert 200 minutes to hours by diving by 60"
   ]
  },
  {
   "cell_type": "code",
   "execution_count": 8,
   "id": "8ac352b8-b15e-4773-bdb2-25092b83767f",
   "metadata": {
    "tags": []
   },
   "outputs": [
    {
     "data": {
      "text/plain": [
       "3.3333333333333335"
      ]
     },
     "execution_count": 8,
     "metadata": {},
     "output_type": "execute_result"
    }
   ],
   "source": [
    "200/60"
   ]
  },
  {
   "cell_type": "markdown",
   "id": "900eba6c-a2b0-4404-9ab2-d2de618b4b7f",
   "metadata": {},
   "source": [
    "<H2>Author<H2>"
   ]
  },
  {
   "cell_type": "markdown",
   "id": "8445a2a0-7c63-4617-aaac-a8b805bd2294",
   "metadata": {},
   "source": [
    "Mohammed Alghamdi"
   ]
  },
  {
   "cell_type": "code",
   "execution_count": null,
   "id": "7ad925c7-8f17-4078-9936-87c5b7c7e0a6",
   "metadata": {},
   "outputs": [],
   "source": []
  }
 ],
 "metadata": {
  "kernelspec": {
   "display_name": "Python",
   "language": "python",
   "name": "conda-env-python-py"
  },
  "language_info": {
   "codemirror_mode": {
    "name": "ipython",
    "version": 3
   },
   "file_extension": ".py",
   "mimetype": "text/x-python",
   "name": "python",
   "nbconvert_exporter": "python",
   "pygments_lexer": "ipython3",
   "version": "3.7.12"
  }
 },
 "nbformat": 4,
 "nbformat_minor": 5
}
